{
  "cells": [
    {
      "cell_type": "markdown",
      "metadata": {
        "id": "view-in-github",
        "colab_type": "text"
      },
      "source": [
        "<a href=\"https://colab.research.google.com/github/Akhil7205/Gen-AI_mini_project/blob/main/Markov_Chain.ipynb\" target=\"_parent\"><img src=\"https://colab.research.google.com/assets/colab-badge.svg\" alt=\"Open In Colab\"/></a>"
      ]
    },
    {
      "cell_type": "markdown",
      "source": [
        "# 📌 Understanding Markov Chains (Step by Step)\n",
        "\n",
        "## 1. What is a Markov Chain?\n",
        "- A **Markov Chain** is a way to predict the future based only on the **present state**, not the past history.\n",
        "- In simple words:  \n",
        "  \"What happens next depends only on where you are right now, not on how you got here.\"\n",
        "\n",
        "---\n",
        "\n",
        "## 2. Real-Life Examples\n",
        "1. **Weather Prediction**  \n",
        "   - If it’s sunny today, there’s a 70% chance tomorrow is sunny, and 30% chance it rains.  \n",
        "   - If it rains today, there’s a 50% chance it rains tomorrow, and 50% chance it’s sunny.\n",
        "\n",
        "   You don’t care about the weather **2 days ago** — only **today** matters.\n",
        "\n",
        "2. **Board Games (like Snakes & Ladders)**  \n",
        "   - Your next position depends only on where you are right now and the dice roll.  \n",
        "   - You don’t care about where you were before.\n",
        "\n",
        "---\n",
        "\n",
        "## 3. Key Concept: States\n",
        "- A **state** is just the current situation.  \n",
        "- Example: \"Sunny\", \"Rainy\", \"Cloudy\".  \n",
        "- In text generation: A state could be a word like \"I\", \"love\", \"AI\".\n",
        "\n",
        "---\n",
        "\n",
        "## 4. Transition Probabilities\n",
        "- The **transition probability** is the chance of moving from one state to another.  \n",
        "- Example:  \n",
        "  - From \"Sunny\" → 70% chance \"Sunny\", 30% chance \"Rainy\".  \n",
        "  - From \"I\" → 60% chance \"love\", 40% chance \"like\".\n",
        "\n",
        "---\n",
        "\n",
        "## 5. How Markov Chains Work in Text\n",
        "1. Take a big text (example: a book).  \n",
        "2. Count which words usually follow which wor\n"
      ],
      "metadata": {
        "id": "MEqvppIX5-r_"
      }
    },
    {
      "cell_type": "markdown",
      "source": [
        "\n",
        "From this, we learn transitions:\n",
        "- \"I\" → [\"love\"]\n",
        "- \"love\" → [\"AI\", \"coding\"]\n",
        "- \"AI\" → [\"loves\"]\n",
        "- \"loves\" → [\"me\"]\n",
        "\n",
        "Now, if we start with \"I\":\n",
        "- \"I\" → \"love\"  \n",
        "- \"love\" → randomly \"AI\" or \"coding\"  \n",
        "- If \"AI\", then → \"loves\" → \"me\"  \n",
        "\n",
        "Generated text might be:  \n",
        "**\"I love coding\"** or **\"I love AI loves me\"**\n",
        "\n",
        "---\n",
        "\n",
        "## 7. Why is it Useful?\n",
        "- Used in **text generation**, **music generation**, **predictive typing**, and even **stock price modeling**.  \n",
        "- Very simple compared to modern AI models like GPT, but it’s the **foundation** for understanding probability-based text generation.\n",
        "\n",
        "---\n"
      ],
      "metadata": {
        "id": "nD1fhdcd6Xq2"
      }
    },
    {
      "cell_type": "code",
      "source": [
        "def build_markov_chain(text, n=1):\n",
        "    words = text.split()  # break text into words\n",
        "    chain = {}  # empty dictionary to store patterns\n",
        "\n",
        "    for i in range(len(words) - n):\n",
        "        key = tuple(words[i:i+n])  # create a key from n words\n",
        "        next_word = words[i+n]  # the word that comes after\n",
        "        chain.setdefault(key, []).append(next_word)  # store it in dictionary\n",
        "\n",
        "    return chain\n"
      ],
      "metadata": {
        "id": "c_O6pt_a3CCU"
      },
      "execution_count": null,
      "outputs": []
    },
    {
      "cell_type": "code",
      "source": [
        "text1=build_markov_chain(\n",
        "    \"The model could also be used for downstream use cases, including: Research efforts, such as probing and better understanding the limitations and biases of generative models to further improve the state of scienceDevelopment of educational or creative toolsGeneration of artwork and use in design and artistic processes.Other uses that are newly discovered by users. This currently includes poetry illustration (give a poem as prompt), fan art (putting a character in various other visual universes), visual puns, fairy tale illustrations (give a fantasy situation as prompt), concept mashups (applying a texture to something completely different), style transfers (portraits in the style of), … We hope you will find your own application! \")"
      ],
      "metadata": {
        "id": "b0YIqxUr3Jf5"
      },
      "execution_count": null,
      "outputs": []
    },
    {
      "cell_type": "code",
      "source": [
        "text2=build_markov_chain('What is a Markov Chain? Think of a Markov chain as a \"choose your next step\" map. Imagine you’re walking in a maze. At every point, you have a set of paths you could take. The choice of your next step only depends on where you are now (not how you got there). This is called the Markov property:\"The future depends only on the present, not the past.\"' )"
      ],
      "metadata": {
        "id": "_c0XKdzw4-Yq"
      },
      "execution_count": null,
      "outputs": []
    },
    {
      "cell_type": "code",
      "source": [
        "text2"
      ],
      "metadata": {
        "id": "H-McIA-L5pDw",
        "outputId": "d8165a43-dc7f-4316-f715-0f234ca3be8a",
        "colab": {
          "base_uri": "https://localhost:8080/"
        }
      },
      "execution_count": null,
      "outputs": [
        {
          "output_type": "execute_result",
          "data": {
            "text/plain": [
              "{('What',): ['is'],\n",
              " ('is',): ['a', 'called'],\n",
              " ('a',): ['Markov', 'Markov', '\"choose', 'maze.', 'set'],\n",
              " ('Markov',): ['Chain?', 'chain', 'property:\"The'],\n",
              " ('Chain?',): ['Think'],\n",
              " ('Think',): ['of'],\n",
              " ('of',): ['a', 'paths', 'your'],\n",
              " ('chain',): ['as'],\n",
              " ('as',): ['a'],\n",
              " ('\"choose',): ['your'],\n",
              " ('your',): ['next', 'next'],\n",
              " ('next',): ['step\"', 'step'],\n",
              " ('step\"',): ['map.'],\n",
              " ('map.',): ['Imagine'],\n",
              " ('Imagine',): ['you’re'],\n",
              " ('you’re',): ['walking'],\n",
              " ('walking',): ['in'],\n",
              " ('in',): ['a'],\n",
              " ('maze.',): ['At'],\n",
              " ('At',): ['every'],\n",
              " ('every',): ['point,'],\n",
              " ('point,',): ['you'],\n",
              " ('you',): ['have', 'could', 'are', 'got'],\n",
              " ('have',): ['a'],\n",
              " ('set',): ['of'],\n",
              " ('paths',): ['you'],\n",
              " ('could',): ['take.'],\n",
              " ('take.',): ['The'],\n",
              " ('The',): ['choice'],\n",
              " ('choice',): ['of'],\n",
              " ('step',): ['only'],\n",
              " ('only',): ['depends', 'on'],\n",
              " ('depends',): ['on', 'only'],\n",
              " ('on',): ['where', 'the'],\n",
              " ('where',): ['you'],\n",
              " ('are',): ['now'],\n",
              " ('now',): ['(not'],\n",
              " ('(not',): ['how'],\n",
              " ('how',): ['you'],\n",
              " ('got',): ['there).'],\n",
              " ('there).',): ['This'],\n",
              " ('This',): ['is'],\n",
              " ('called',): ['the'],\n",
              " ('the',): ['Markov', 'present,', 'past.\"'],\n",
              " ('property:\"The',): ['future'],\n",
              " ('future',): ['depends'],\n",
              " ('present,',): ['not'],\n",
              " ('not',): ['the']}"
            ]
          },
          "metadata": {},
          "execution_count": 35
        }
      ]
    },
    {
      "cell_type": "code",
      "source": [
        "import random"
      ],
      "metadata": {
        "id": "INxMwGQA4GDe"
      },
      "execution_count": null,
      "outputs": []
    },
    {
      "cell_type": "code",
      "source": [
        "def generate_text(chain, length=50):\n",
        "    key = random.choice(list(chain.keys()))  # start at a random state\n",
        "    output = list(key)  # start with those words\n",
        "\n",
        "    for _ in range(length):\n",
        "        next_words = chain.get(key)\n",
        "        if not next_words:  # if no next words, stop\n",
        "            break\n",
        "        next_word = random.choice(next_words)  # randomly pick next word\n",
        "        output.append(next_word)\n",
        "        key = tuple(output[-len(key):])  # shift the window\n",
        "\n",
        "    return \" \".join(output)\n"
      ],
      "metadata": {
        "id": "o2ramUIZ3B23"
      },
      "execution_count": null,
      "outputs": []
    },
    {
      "cell_type": "code",
      "source": [
        "text1"
      ],
      "metadata": {
        "id": "USwYfJLG3IKw",
        "outputId": "a6e7a0a4-aad7-4a05-a5d0-e7acbafef6ad",
        "colab": {
          "base_uri": "https://localhost:8080/"
        }
      },
      "execution_count": null,
      "outputs": [
        {
          "output_type": "execute_result",
          "data": {
            "text/plain": [
              "{('The',): ['model'],\n",
              " ('model',): ['could'],\n",
              " ('could',): ['also'],\n",
              " ('also',): ['be'],\n",
              " ('be',): ['used'],\n",
              " ('used',): ['for'],\n",
              " ('for',): ['downstream'],\n",
              " ('downstream',): ['use'],\n",
              " ('use',): ['cases,', 'in'],\n",
              " ('cases,',): ['including:'],\n",
              " ('including:',): ['Research'],\n",
              " ('Research',): ['efforts,'],\n",
              " ('efforts,',): ['such'],\n",
              " ('such',): ['as'],\n",
              " ('as',): ['probing', 'prompt),', 'prompt),'],\n",
              " ('probing',): ['and'],\n",
              " ('and',): ['better', 'biases', 'use', 'artistic'],\n",
              " ('better',): ['understanding'],\n",
              " ('understanding',): ['the'],\n",
              " ('the',): ['limitations', 'state', 'style'],\n",
              " ('limitations',): ['and'],\n",
              " ('biases',): ['of'],\n",
              " ('of',): ['generative', 'scienceDevelopment', 'educational', 'artwork'],\n",
              " ('generative',): ['models'],\n",
              " ('models',): ['to'],\n",
              " ('to',): ['further', 'something'],\n",
              " ('further',): ['improve'],\n",
              " ('improve',): ['the'],\n",
              " ('state',): ['of'],\n",
              " ('scienceDevelopment',): ['of'],\n",
              " ('educational',): ['or'],\n",
              " ('or',): ['creative'],\n",
              " ('creative',): ['toolsGeneration'],\n",
              " ('toolsGeneration',): ['of'],\n",
              " ('artwork',): ['and'],\n",
              " ('in',): ['design', 'various', 'the'],\n",
              " ('design',): ['and'],\n",
              " ('artistic',): ['processes.Other'],\n",
              " ('processes.Other',): ['uses'],\n",
              " ('uses',): ['that'],\n",
              " ('that',): ['are'],\n",
              " ('are',): ['newly'],\n",
              " ('newly',): ['discovered'],\n",
              " ('discovered',): ['by'],\n",
              " ('by',): ['users.'],\n",
              " ('users.',): ['This'],\n",
              " ('This',): ['currently'],\n",
              " ('currently',): ['includes'],\n",
              " ('includes',): ['poetry'],\n",
              " ('poetry',): ['illustration'],\n",
              " ('illustration',): ['(give'],\n",
              " ('(give',): ['a', 'a'],\n",
              " ('a',): ['poem', 'character', 'fantasy', 'texture'],\n",
              " ('poem',): ['as'],\n",
              " ('prompt),',): ['fan', 'concept'],\n",
              " ('fan',): ['art'],\n",
              " ('art',): ['(putting'],\n",
              " ('(putting',): ['a'],\n",
              " ('character',): ['in'],\n",
              " ('various',): ['other'],\n",
              " ('other',): ['visual'],\n",
              " ('visual',): ['universes),', 'puns,'],\n",
              " ('universes),',): ['visual'],\n",
              " ('puns,',): ['fairy'],\n",
              " ('fairy',): ['tale'],\n",
              " ('tale',): ['illustrations'],\n",
              " ('illustrations',): ['(give'],\n",
              " ('fantasy',): ['situation'],\n",
              " ('situation',): ['as'],\n",
              " ('concept',): ['mashups'],\n",
              " ('mashups',): ['(applying'],\n",
              " ('(applying',): ['a'],\n",
              " ('texture',): ['to'],\n",
              " ('something',): ['completely'],\n",
              " ('completely',): ['different),'],\n",
              " ('different),',): ['style'],\n",
              " ('style',): ['transfers', 'of),'],\n",
              " ('transfers',): ['(portraits'],\n",
              " ('(portraits',): ['in'],\n",
              " ('of),',): ['…'],\n",
              " ('…',): ['We'],\n",
              " ('We',): ['hope'],\n",
              " ('hope',): ['you'],\n",
              " ('you',): ['will'],\n",
              " ('will',): ['find'],\n",
              " ('find',): ['your'],\n",
              " ('your',): ['own'],\n",
              " ('own',): ['application!']}"
            ]
          },
          "metadata": {},
          "execution_count": 26
        }
      ]
    },
    {
      "cell_type": "code",
      "source": [
        "generate_text(text2)"
      ],
      "metadata": {
        "id": "uavSdVoe3p6S",
        "outputId": "a54099ac-afe0-419e-f983-a82b6c32b3f5",
        "colab": {
          "base_uri": "https://localhost:8080/",
          "height": 54
        }
      },
      "execution_count": null,
      "outputs": [
        {
          "output_type": "execute_result",
          "data": {
            "text/plain": [
              "'a maze. At every point, you have a maze. At every point, you got there). This is called the Markov Chain? Think of paths you have a Markov chain as a Markov chain as a Markov chain as a maze. At every point, you got there). This is a set of'"
            ],
            "application/vnd.google.colaboratory.intrinsic+json": {
              "type": "string"
            }
          },
          "metadata": {},
          "execution_count": 38
        }
      ]
    },
    {
      "cell_type": "code",
      "source": [
        "generate_text(text1)"
      ],
      "metadata": {
        "id": "70kTQXe23s2E",
        "outputId": "d93ea728-3d52-497e-e913-1f02e7f3c1d6",
        "colab": {
          "base_uri": "https://localhost:8080/",
          "height": 72
        }
      },
      "execution_count": null,
      "outputs": [
        {
          "output_type": "execute_result",
          "data": {
            "text/plain": [
              "'puns, fairy tale illustrations (give a poem as prompt), fan art (putting a character in design and artistic processes.Other uses that are newly discovered by users. This currently includes poetry illustration (give a fantasy situation as prompt), concept mashups (applying a texture to further improve the style transfers (portraits in various'"
            ],
            "application/vnd.google.colaboratory.intrinsic+json": {
              "type": "string"
            }
          },
          "metadata": {},
          "execution_count": 40
        }
      ]
    },
    {
      "cell_type": "code",
      "source": [],
      "metadata": {
        "id": "zNWgvHYi57LT"
      },
      "execution_count": null,
      "outputs": []
    }
  ],
  "metadata": {
    "colab": {
      "provenance": [],
      "include_colab_link": true
    },
    "kernelspec": {
      "display_name": "Python 3",
      "name": "python3"
    }
  },
  "nbformat": 4,
  "nbformat_minor": 0
}